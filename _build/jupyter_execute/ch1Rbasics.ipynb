{
 "cells": [
  {
   "cell_type": "markdown",
   "id": "6dad5f46-ae1d-4896-8aaf-a9fb2c48c0b2",
   "metadata": {},
   "source": [
    "# Basics of R"
   ]
  },
  {
   "cell_type": "markdown",
   "id": "bf2e2117-885a-4ccf-a5b2-3d2efbd67e39",
   "metadata": {},
   "source": [
    "## Using R as a calculator"
   ]
  },
  {
   "cell_type": "code",
   "execution_count": 1,
   "id": "7649e864-2d23-43b9-8d9c-d3cb87828858",
   "metadata": {},
   "outputs": [
    {
     "data": {
      "text/html": [
       "4"
      ],
      "text/latex": [
       "4"
      ],
      "text/markdown": [
       "4"
      ],
      "text/plain": [
       "[1] 4"
      ]
     },
     "metadata": {},
     "output_type": "display_data"
    }
   ],
   "source": [
    "1+3"
   ]
  },
  {
   "cell_type": "code",
   "execution_count": 2,
   "id": "620b8b89-dd12-4efb-91db-d5ede03464f0",
   "metadata": {},
   "outputs": [
    {
     "data": {
      "text/html": [
       "30"
      ],
      "text/latex": [
       "30"
      ],
      "text/markdown": [
       "30"
      ],
      "text/plain": [
       "[1] 30"
      ]
     },
     "metadata": {},
     "output_type": "display_data"
    }
   ],
   "source": [
    "5*6"
   ]
  },
  {
   "cell_type": "code",
   "execution_count": 3,
   "id": "766496e5-4bfd-4bdd-9b29-419f259e5c97",
   "metadata": {},
   "outputs": [
    {
     "data": {
      "text/html": [
       "27"
      ],
      "text/latex": [
       "27"
      ],
      "text/markdown": [
       "27"
      ],
      "text/plain": [
       "[1] 27"
      ]
     },
     "metadata": {},
     "output_type": "display_data"
    }
   ],
   "source": [
    "3^3"
   ]
  },
  {
   "cell_type": "code",
   "execution_count": 4,
   "id": "9530a206-54f1-486d-8f47-feefa8c96750",
   "metadata": {},
   "outputs": [
    {
     "data": {
      "text/html": [
       "20.0855369231877"
      ],
      "text/latex": [
       "20.0855369231877"
      ],
      "text/markdown": [
       "20.0855369231877"
      ],
      "text/plain": [
       "[1] 20.08554"
      ]
     },
     "metadata": {},
     "output_type": "display_data"
    }
   ],
   "source": [
    "exp(3)"
   ]
  },
  {
   "cell_type": "code",
   "execution_count": 5,
   "id": "51ead642-0c57-4b4a-b017-a1a123d4fb70",
   "metadata": {},
   "outputs": [
    {
     "data": {
      "text/html": [
       "3.24264068711929"
      ],
      "text/latex": [
       "3.24264068711929"
      ],
      "text/markdown": [
       "3.24264068711929"
      ],
      "text/plain": [
       "[1] 3.242641"
      ]
     },
     "metadata": {},
     "output_type": "display_data"
    }
   ],
   "source": [
    "3*(8+2^(1/2))-5^2"
   ]
  },
  {
   "cell_type": "markdown",
   "id": "9d58d2f9-40d7-4d47-ba46-de112d2e31bc",
   "metadata": {},
   "source": [
    "## Assigning values to variables"
   ]
  },
  {
   "cell_type": "code",
   "execution_count": 6,
   "id": "4c2a2ce6-34ba-461e-8c72-7daa0cd8268e",
   "metadata": {},
   "outputs": [],
   "source": [
    "a <- 3"
   ]
  },
  {
   "cell_type": "code",
   "execution_count": 7,
   "id": "a52abc51-a3dd-4a7b-bb2a-e995a9b41d82",
   "metadata": {},
   "outputs": [
    {
     "data": {
      "text/html": [
       "3"
      ],
      "text/latex": [
       "3"
      ],
      "text/markdown": [
       "3"
      ],
      "text/plain": [
       "[1] 3"
      ]
     },
     "metadata": {},
     "output_type": "display_data"
    }
   ],
   "source": [
    "a"
   ]
  },
  {
   "cell_type": "code",
   "execution_count": 8,
   "id": "e4ccefa6-43a6-4a69-93c8-f0e261b20cd6",
   "metadata": {},
   "outputs": [],
   "source": [
    "b <- 5"
   ]
  },
  {
   "cell_type": "code",
   "execution_count": 9,
   "id": "7eef98ec-f997-47b2-99ae-49a148eb0ffe",
   "metadata": {},
   "outputs": [
    {
     "data": {
      "text/html": [
       "8"
      ],
      "text/latex": [
       "8"
      ],
      "text/markdown": [
       "8"
      ],
      "text/plain": [
       "[1] 8"
      ]
     },
     "metadata": {},
     "output_type": "display_data"
    }
   ],
   "source": [
    "a+b"
   ]
  },
  {
   "cell_type": "markdown",
   "id": "fa27f8ab-2d76-42b3-97af-abe4e589dc90",
   "metadata": {},
   "source": [
    "## Creating vectors"
   ]
  },
  {
   "cell_type": "code",
   "execution_count": 10,
   "id": "94eadca7-c7a5-40df-9869-5a0f71e829a8",
   "metadata": {},
   "outputs": [],
   "source": [
    "a<-c(1,2,5,7)"
   ]
  },
  {
   "cell_type": "code",
   "execution_count": 11,
   "id": "f15de3f7-c7d1-44b4-be05-d13ca4b1e2a0",
   "metadata": {},
   "outputs": [
    {
     "data": {
      "text/html": [
       "<style>\n",
       ".list-inline {list-style: none; margin:0; padding: 0}\n",
       ".list-inline>li {display: inline-block}\n",
       ".list-inline>li:not(:last-child)::after {content: \"\\00b7\"; padding: 0 .5ex}\n",
       "</style>\n",
       "<ol class=list-inline><li>1</li><li>2</li><li>5</li><li>7</li></ol>\n"
      ],
      "text/latex": [
       "\\begin{enumerate*}\n",
       "\\item 1\n",
       "\\item 2\n",
       "\\item 5\n",
       "\\item 7\n",
       "\\end{enumerate*}\n"
      ],
      "text/markdown": [
       "1. 1\n",
       "2. 2\n",
       "3. 5\n",
       "4. 7\n",
       "\n",
       "\n"
      ],
      "text/plain": [
       "[1] 1 2 5 7"
      ]
     },
     "metadata": {},
     "output_type": "display_data"
    }
   ],
   "source": [
    "a"
   ]
  },
  {
   "cell_type": "code",
   "execution_count": 12,
   "id": "b611eca0-5109-40c5-9a0c-1c2f481544d1",
   "metadata": {},
   "outputs": [
    {
     "data": {
      "text/html": [
       "2"
      ],
      "text/latex": [
       "2"
      ],
      "text/markdown": [
       "2"
      ],
      "text/plain": [
       "[1] 2"
      ]
     },
     "metadata": {},
     "output_type": "display_data"
    }
   ],
   "source": [
    "a[2]"
   ]
  },
  {
   "cell_type": "code",
   "execution_count": 13,
   "id": "a0544375-1c92-49b4-9f94-05a7c4d89583",
   "metadata": {},
   "outputs": [
    {
     "data": {
      "text/html": [
       "4"
      ],
      "text/latex": [
       "4"
      ],
      "text/markdown": [
       "4"
      ],
      "text/plain": [
       "[1] 4"
      ]
     },
     "metadata": {},
     "output_type": "display_data"
    }
   ],
   "source": [
    "length(a)"
   ]
  },
  {
   "cell_type": "code",
   "execution_count": 14,
   "id": "42508492-00fd-490b-8485-9e8913919b3b",
   "metadata": {},
   "outputs": [],
   "source": [
    "a<-1:10"
   ]
  },
  {
   "cell_type": "code",
   "execution_count": 15,
   "id": "cd30db32-be20-430c-be13-f35421b8ff1d",
   "metadata": {},
   "outputs": [
    {
     "data": {
      "text/html": [
       "<style>\n",
       ".list-inline {list-style: none; margin:0; padding: 0}\n",
       ".list-inline>li {display: inline-block}\n",
       ".list-inline>li:not(:last-child)::after {content: \"\\00b7\"; padding: 0 .5ex}\n",
       "</style>\n",
       "<ol class=list-inline><li>1</li><li>2</li><li>3</li><li>4</li><li>5</li><li>6</li><li>7</li><li>8</li><li>9</li><li>10</li></ol>\n"
      ],
      "text/latex": [
       "\\begin{enumerate*}\n",
       "\\item 1\n",
       "\\item 2\n",
       "\\item 3\n",
       "\\item 4\n",
       "\\item 5\n",
       "\\item 6\n",
       "\\item 7\n",
       "\\item 8\n",
       "\\item 9\n",
       "\\item 10\n",
       "\\end{enumerate*}\n"
      ],
      "text/markdown": [
       "1. 1\n",
       "2. 2\n",
       "3. 3\n",
       "4. 4\n",
       "5. 5\n",
       "6. 6\n",
       "7. 7\n",
       "8. 8\n",
       "9. 9\n",
       "10. 10\n",
       "\n",
       "\n"
      ],
      "text/plain": [
       " [1]  1  2  3  4  5  6  7  8  9 10"
      ]
     },
     "metadata": {},
     "output_type": "display_data"
    }
   ],
   "source": [
    "a"
   ]
  },
  {
   "cell_type": "code",
   "execution_count": 16,
   "id": "d72a3094-fbb6-4284-87b9-878e38e954ab",
   "metadata": {},
   "outputs": [
    {
     "data": {
      "text/html": [
       "5"
      ],
      "text/latex": [
       "5"
      ],
      "text/markdown": [
       "5"
      ],
      "text/plain": [
       "[1] 5"
      ]
     },
     "metadata": {},
     "output_type": "display_data"
    }
   ],
   "source": [
    "a[5]"
   ]
  },
  {
   "cell_type": "code",
   "execution_count": 17,
   "id": "0fb39b80-2648-408d-92d3-2e56d781de5c",
   "metadata": {},
   "outputs": [
    {
     "data": {
      "text/html": [
       "10"
      ],
      "text/latex": [
       "10"
      ],
      "text/markdown": [
       "10"
      ],
      "text/plain": [
       "[1] 10"
      ]
     },
     "metadata": {},
     "output_type": "display_data"
    }
   ],
   "source": [
    "length(a)"
   ]
  },
  {
   "cell_type": "code",
   "execution_count": 18,
   "id": "807682ee-c9bb-498d-99c4-089fb3668eb8",
   "metadata": {},
   "outputs": [],
   "source": [
    "a <- seq(from=1, to=10, by=1)"
   ]
  },
  {
   "cell_type": "code",
   "execution_count": 19,
   "id": "2cab0bac-14b5-49ba-9077-2958dfa0c92e",
   "metadata": {},
   "outputs": [
    {
     "data": {
      "text/html": [
       "<style>\n",
       ".list-inline {list-style: none; margin:0; padding: 0}\n",
       ".list-inline>li {display: inline-block}\n",
       ".list-inline>li:not(:last-child)::after {content: \"\\00b7\"; padding: 0 .5ex}\n",
       "</style>\n",
       "<ol class=list-inline><li>1</li><li>2</li><li>3</li><li>4</li><li>5</li><li>6</li><li>7</li><li>8</li><li>9</li><li>10</li></ol>\n"
      ],
      "text/latex": [
       "\\begin{enumerate*}\n",
       "\\item 1\n",
       "\\item 2\n",
       "\\item 3\n",
       "\\item 4\n",
       "\\item 5\n",
       "\\item 6\n",
       "\\item 7\n",
       "\\item 8\n",
       "\\item 9\n",
       "\\item 10\n",
       "\\end{enumerate*}\n"
      ],
      "text/markdown": [
       "1. 1\n",
       "2. 2\n",
       "3. 3\n",
       "4. 4\n",
       "5. 5\n",
       "6. 6\n",
       "7. 7\n",
       "8. 8\n",
       "9. 9\n",
       "10. 10\n",
       "\n",
       "\n"
      ],
      "text/plain": [
       " [1]  1  2  3  4  5  6  7  8  9 10"
      ]
     },
     "metadata": {},
     "output_type": "display_data"
    }
   ],
   "source": [
    "a"
   ]
  },
  {
   "cell_type": "code",
   "execution_count": 20,
   "id": "9df8015d-45e3-4cfd-9e5f-61d71a27a7e0",
   "metadata": {},
   "outputs": [],
   "source": [
    "a <- seq(from=1, to=10, by=0.5)"
   ]
  },
  {
   "cell_type": "code",
   "execution_count": 21,
   "id": "b07e4824-aa51-454f-b92e-8c1319be3bbb",
   "metadata": {},
   "outputs": [
    {
     "data": {
      "text/html": [
       "<style>\n",
       ".list-inline {list-style: none; margin:0; padding: 0}\n",
       ".list-inline>li {display: inline-block}\n",
       ".list-inline>li:not(:last-child)::after {content: \"\\00b7\"; padding: 0 .5ex}\n",
       "</style>\n",
       "<ol class=list-inline><li>1</li><li>1.5</li><li>2</li><li>2.5</li><li>3</li><li>3.5</li><li>4</li><li>4.5</li><li>5</li><li>5.5</li><li>6</li><li>6.5</li><li>7</li><li>7.5</li><li>8</li><li>8.5</li><li>9</li><li>9.5</li><li>10</li></ol>\n"
      ],
      "text/latex": [
       "\\begin{enumerate*}\n",
       "\\item 1\n",
       "\\item 1.5\n",
       "\\item 2\n",
       "\\item 2.5\n",
       "\\item 3\n",
       "\\item 3.5\n",
       "\\item 4\n",
       "\\item 4.5\n",
       "\\item 5\n",
       "\\item 5.5\n",
       "\\item 6\n",
       "\\item 6.5\n",
       "\\item 7\n",
       "\\item 7.5\n",
       "\\item 8\n",
       "\\item 8.5\n",
       "\\item 9\n",
       "\\item 9.5\n",
       "\\item 10\n",
       "\\end{enumerate*}\n"
      ],
      "text/markdown": [
       "1. 1\n",
       "2. 1.5\n",
       "3. 2\n",
       "4. 2.5\n",
       "5. 3\n",
       "6. 3.5\n",
       "7. 4\n",
       "8. 4.5\n",
       "9. 5\n",
       "10. 5.5\n",
       "11. 6\n",
       "12. 6.5\n",
       "13. 7\n",
       "14. 7.5\n",
       "15. 8\n",
       "16. 8.5\n",
       "17. 9\n",
       "18. 9.5\n",
       "19. 10\n",
       "\n",
       "\n"
      ],
      "text/plain": [
       " [1]  1.0  1.5  2.0  2.5  3.0  3.5  4.0  4.5  5.0  5.5  6.0  6.5  7.0  7.5  8.0\n",
       "[16]  8.5  9.0  9.5 10.0"
      ]
     },
     "metadata": {},
     "output_type": "display_data"
    }
   ],
   "source": [
    "a"
   ]
  },
  {
   "cell_type": "code",
   "execution_count": 22,
   "id": "6226c637-134e-4dc2-92d1-168a81cef085",
   "metadata": {},
   "outputs": [
    {
     "data": {
      "text/html": [
       "6.5"
      ],
      "text/latex": [
       "6.5"
      ],
      "text/markdown": [
       "6.5"
      ],
      "text/plain": [
       "[1] 6.5"
      ]
     },
     "metadata": {},
     "output_type": "display_data"
    }
   ],
   "source": [
    "a[12]"
   ]
  }
 ],
 "metadata": {
  "kernelspec": {
   "display_name": "R",
   "language": "R",
   "name": "ir"
  },
  "language_info": {
   "codemirror_mode": "r",
   "file_extension": ".r",
   "mimetype": "text/x-r-source",
   "name": "R",
   "pygments_lexer": "r",
   "version": "4.2.1"
  }
 },
 "nbformat": 4,
 "nbformat_minor": 5
}