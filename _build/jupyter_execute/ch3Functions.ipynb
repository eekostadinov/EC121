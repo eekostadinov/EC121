{
 "cells": [
  {
   "cell_type": "markdown",
   "id": "9deaf379-e365-4028-a1c5-efba3d652e93",
   "metadata": {},
   "source": [
    "(chapter:functions)=\n",
    "# Writing your own functions in R\n",
    "\n",
    "This chapter is a quick guide to user-defined *functions* in R, with emphasis on the implementation of mathematical functions. Following this chapter you will be able to use R to write pieces of code which implement mathematical functions such as the ones studied in the module.  \n",
    "\n",
    ":::{warning}\n",
    "The concept of a **function** has distinct (although related) meanings in the contexts of mathematics and programming. \n",
    "\n",
    "In the lectures we have defined a mathematical function, $f$, as a rule which takes as an input a variable quantity, $x$ (the *argument* of the function), and for each value of $x$, returns **one and only one** value, $f(x)$, as output.\n",
    "\n",
    "In programming, a function is a piece of computer program, which also takes some input, transforms it in a specified way, and produces some output. While intended as an implementation of the abstract mathematical concept of function, a function defined in a program may not be a mathematical function (for example, it may not necessarily map a value of the arguments to a unique value). However, we can write programming functions which implement mathematical functions and this is the context in which we will use programming functions in this course. \n",
    ":::\n",
    "\n",
    "The best way to work through the chapter is to read the discussion and then reproduce all code in your own R/RStudio installation. You can do this by copying code from a notebook cell to your R script and run the code line by line.\n",
    "\n",
    "The chapter includes some exercises that allow you to test your understanding. It is recommended that you try these exercises on your own before choosing the option to reveal the solutions."
   ]
  },
  {
   "cell_type": "markdown",
   "id": "6a0f3ec6-366a-465c-9089-c6a7a65cf9c7",
   "metadata": {},
   "source": [
    "## Defining a custom function\n",
    "\n",
    "Suppose that you want to define a function \n",
    "- called `some_function` \n",
    "- which takes as arguments some values, `arg1`, `arg2`,..., `argN`\n",
    "- makes some calculation based on the values of the arguments (as well as values stored in *variables* prior to the call of the function)\n",
    "- and returns some output, `output`\n",
    "\n",
    "The way to define this function in R is through the following code\n",
    "\n",
    ":::{code-block}\n",
    "some_function <- function(`arg1`, `arg2`,...,`argN`) {\n",
    "  \n",
    "  (optional) some code involving statements using {`arg1`, `arg2`, ..., `argN`} that define `output` \n",
    "  \n",
    "  return(`output`)\n",
    "}\n",
    ":::\n",
    "\n",
    "Once the function is defined, a call `some_function(ARG1, ARG2, ..., ARGN)` where `ARG1`, ..., `ARGN` are specific values of the arguments, will return the value of the output when these specific values are used as arguments. "
   ]
  },
  {
   "cell_type": "markdown",
   "id": "c3b6047c-0ec7-4a0f-94d8-3358ff49395c",
   "metadata": {},
   "source": [
    "### Example\n",
    "\n",
    "Suppose that we want to write an R function which implements the mathematical function \n",
    "\n",
    "$$\n",
    "    f(x)=x^3-12x+3\n",
    "$$\n",
    "\n",
    "To do so we define an R function\n",
    "- called `f`\n",
    "- which takes as argument a value `x`\n",
    "- and returns the value of the expression `x^3-12*x+3`\n",
    "\n",
    "\n",
    "To do so type"
   ]
  },
  {
   "cell_type": "code",
   "execution_count": 1,
   "id": "a059642c-b129-4930-ad37-764779eaf6ba",
   "metadata": {
    "vscode": {
     "languageId": "r"
    }
   },
   "outputs": [],
   "source": [
    "f <- function(x) {\n",
    "    return(x^3-12*x+3)\n",
    "}"
   ]
  },
  {
   "cell_type": "markdown",
   "id": "cd91f04d-bac2-4d96-aa39-b779f0de8d10",
   "metadata": {},
   "source": [
    "Once the function is defined we can evaluate the function at any specific value of the argument, say `4`, by typing `f(4)`."
   ]
  },
  {
   "cell_type": "code",
   "execution_count": 2,
   "id": "3f75386f-260c-496c-baaa-3ddec7103447",
   "metadata": {
    "vscode": {
     "languageId": "r"
    }
   },
   "outputs": [
    {
     "data": {
      "text/html": [
       "19"
      ],
      "text/latex": [
       "19"
      ],
      "text/markdown": [
       "19"
      ],
      "text/plain": [
       "[1] 19"
      ]
     },
     "metadata": {},
     "output_type": "display_data"
    }
   ],
   "source": [
    "f(4)"
   ]
  },
  {
   "cell_type": "markdown",
   "id": "fcfea31c-7661-4faf-8bef-6fc10276222d",
   "metadata": {},
   "source": [
    "This makes sense because given $f(x)=x^3-12x+3$, it is true that $f(4)=19$. So the *programming* function `f` above, is an implementation of the mathematical function $f(x)=x^3-12x+3$."
   ]
  },
  {
   "cell_type": "markdown",
   "id": "32786389-b9c3-4805-897e-5acc553ce446",
   "metadata": {},
   "source": [
    "Given this we can use our function to easily evaluate complex expressions involving the function. For example, given $f(x)=x^3-12x+3$ we can easily find the value of \n",
    "\n",
    "$$\n",
    "    \\frac{f(5)-f(3)}{f(4)}\n",
    "$$ \n",
    "\n",
    "by simply typing"
   ]
  },
  {
   "cell_type": "code",
   "execution_count": 3,
   "id": "313b9246-7377-4d27-9e1b-e426d5c16960",
   "metadata": {
    "vscode": {
     "languageId": "r"
    }
   },
   "outputs": [
    {
     "data": {
      "text/html": [
       "3.89473684210526"
      ],
      "text/latex": [
       "3.89473684210526"
      ],
      "text/markdown": [
       "3.89473684210526"
      ],
      "text/plain": [
       "[1] 3.894737"
      ]
     },
     "metadata": {},
     "output_type": "display_data"
    }
   ],
   "source": [
    "(f(5)-f(3))/f(4)"
   ]
  },
  {
   "cell_type": "markdown",
   "id": "1bf07a77-8480-40c5-8e6a-225ae5090a7d",
   "metadata": {},
   "source": [
    "Note that we could have defined a function implementing $f(x)=x^3-12x+3$ in more complicated ways as well, as long as we correctly follow the syntax rules. For example, the function `f1` below uses a different code but results in the same rule."
   ]
  },
  {
   "cell_type": "code",
   "execution_count": 4,
   "id": "57afd94d-16a7-4a58-a774-610a7c708b52",
   "metadata": {
    "vscode": {
     "languageId": "r"
    }
   },
   "outputs": [],
   "source": [
    "f1 <- function(x) {\n",
    "    y <- x^3-12*x+3\n",
    "    return(y)\n",
    "}"
   ]
  },
  {
   "cell_type": "code",
   "execution_count": 5,
   "id": "403449ef-e26d-4a62-8ab5-8e0e85d39af6",
   "metadata": {
    "vscode": {
     "languageId": "r"
    }
   },
   "outputs": [
    {
     "data": {
      "text/html": [
       "3.89473684210526"
      ],
      "text/latex": [
       "3.89473684210526"
      ],
      "text/markdown": [
       "3.89473684210526"
      ],
      "text/plain": [
       "[1] 3.894737"
      ]
     },
     "metadata": {},
     "output_type": "display_data"
    }
   ],
   "source": [
    "(f1(5)-f1(3))/f1(4)"
   ]
  },
  {
   "cell_type": "markdown",
   "id": "66d333f2-c5f7-44ca-a246-6182a6229945",
   "metadata": {},
   "source": [
    "An even more complicated implementation of the same mathematical function is the function `f2` below"
   ]
  },
  {
   "cell_type": "code",
   "execution_count": 6,
   "id": "d8e5c2fd-d6b7-4e3f-9b7a-c921b6f12ff8",
   "metadata": {
    "vscode": {
     "languageId": "r"
    }
   },
   "outputs": [],
   "source": [
    "f2 <- function(x) {\n",
    "    term1 <- x*x*x\n",
    "    term2 <- -12*x\n",
    "    term3 <- 3\n",
    "    out = term1 + term2 + term3\n",
    "    return(out)\n",
    "}"
   ]
  },
  {
   "cell_type": "code",
   "execution_count": 7,
   "id": "4e515939-dd47-4a3c-91af-755b962e9f25",
   "metadata": {
    "vscode": {
     "languageId": "r"
    }
   },
   "outputs": [
    {
     "data": {
      "text/html": [
       "3.89473684210526"
      ],
      "text/latex": [
       "3.89473684210526"
      ],
      "text/markdown": [
       "3.89473684210526"
      ],
      "text/plain": [
       "[1] 3.894737"
      ]
     },
     "metadata": {},
     "output_type": "display_data"
    }
   ],
   "source": [
    "(f2(5)-f2(3))/f2(4)"
   ]
  },
  {
   "cell_type": "markdown",
   "id": "c898144f-d70f-4679-85ea-5a76894a2691",
   "metadata": {},
   "source": [
    ":::{note}\n",
    "The purpose of this discussion is not to suggest using more complicated code for defining simple functions but simply to show how user-defined functions in R work. \n",
    ":::"
   ]
  },
  {
   "cell_type": "markdown",
   "id": "8d61cef1-3688-4e38-9f92-3b0d3597d378",
   "metadata": {},
   "source": [
    ":::{exercise}\n",
    ":label: ex-function\n",
    "\n",
    "Write an R function called `g` which implements the mathematical function \n",
    "\n",
    "$$\n",
    "    g(x)=3x^2-2x+1\n",
    "$$\n",
    "\n",
    "Then evaluate the expression \n",
    "\n",
    "$$\n",
    "    \\frac{g(2)-g(3)}{g(1)}\n",
    "$$\n",
    "\n",
    ":::"
   ]
  },
  {
   "cell_type": "markdown",
   "id": "d3996cba-3f64-4e43-960f-1495628e4d5f",
   "metadata": {},
   "source": [
    "::::{solution} ex-function\n",
    ":class: dropdown\n",
    "\n",
    "One code that implements the function is the following\n",
    "\n",
    ":::{code-block}\n",
    "\n",
    "g <- function(x) {\n",
    "return(3*x^2-2*x+1)\n",
    "}                         # Define the function\n",
    "\n",
    "\n",
    "(g(2)-g(3))/g(1)          # Evaluate the expression\n",
    "\n",
    ":::\n",
    "    \n",
    "::::    "
   ]
  },
  {
   "cell_type": "markdown",
   "id": "66c110ae-0583-48b6-8f94-cb203d5ab936",
   "metadata": {},
   "source": [
    "### A note on functions of several variables. \n",
    "\n",
    "While we have not yet studied multivariate functions in the module (coming soon) we can easily implement a mathematical function of several variables in R by using the exact same syntax rules. For example, a simple function of three variables is the function $h(x,y,z)=x+y-z$ - a rule which takes the values of three arguments ($x$, $y$ and $z$) and returns a number equal to $x+y-z$. For example,  "
   ]
  },
  {
   "cell_type": "code",
   "execution_count": 8,
   "id": "54f46c41-3419-4aca-bd95-7a40ba0eabf3",
   "metadata": {
    "vscode": {
     "languageId": "r"
    }
   },
   "outputs": [],
   "source": [
    "h <- function(x,y,z) {\n",
    "    return(x+y-z)\n",
    "} "
   ]
  },
  {
   "cell_type": "markdown",
   "id": "6e42ac16-0d09-4fa6-b14b-cae40354a9c7",
   "metadata": {},
   "source": [
    "Then we can evaluate $h(x=1,y=2,z=3)=1+2-3=0$ simply by typing"
   ]
  },
  {
   "cell_type": "code",
   "execution_count": 9,
   "id": "d06f8695-2de0-44e0-af17-5fa1f5e39271",
   "metadata": {
    "vscode": {
     "languageId": "r"
    }
   },
   "outputs": [
    {
     "data": {
      "text/html": [
       "0"
      ],
      "text/latex": [
       "0"
      ],
      "text/markdown": [
       "0"
      ],
      "text/plain": [
       "[1] 0"
      ]
     },
     "metadata": {},
     "output_type": "display_data"
    }
   ],
   "source": [
    "h(1,2,3)"
   ]
  },
  {
   "cell_type": "markdown",
   "id": "c1bd51f2-12a3-417c-a47c-6d1310a4b87d",
   "metadata": {},
   "source": [
    "## (Optional) A note on global and local variables\n",
    "\n",
    "In the context of programming there is an important distinction between two types of variables - **global variables** and **local variables**. \n",
    "\n",
    ":::{note}\n",
    "The distinction between local and global variables is a relatively advanced idea and not directly relevant to the context of these notes as supplementing a mathematics course. For this reason, don't worry if at this stage you have difficulties in understanding the discussion. \n",
    "\n",
    "However, the distinction is fundamental to programming and occurs in every programming language. Since you are likely to use R for the duration of your degree, understanding the programming concepts of local and global variables can be very helpful later on.   \n",
    ":::\n",
    "\n",
    "### Global variables\n",
    "\n",
    "Informally, within a program (think within the execution of an R script), a global variable is one that, once defined, can be called from any part of the program. If you use RStudio, you can see a list of all global variables defined within the code that you have executed in the Environment window. Whenever you define a variable within your program outside of a function, you have defined a global variable which can then be used as a named store of value in any subsequent part of the code, including functions.\n",
    "\n",
    "For example, if you run the following code within the main body of your RStudio script (or from the R console)"
   ]
  },
  {
   "cell_type": "code",
   "execution_count": 10,
   "id": "fccbb9cf-8781-4101-997c-a3bdb7187b1d",
   "metadata": {
    "vscode": {
     "languageId": "r"
    }
   },
   "outputs": [],
   "source": [
    "newvar <- 5 # defines a new global variable"
   ]
  },
  {
   "cell_type": "markdown",
   "id": "637126a0-c96e-4e93-bd20-b7cc9874357b",
   "metadata": {},
   "source": [
    "you define a new global variable, called `newvar` with value 5. You will notice that the variable `newvar` with value `5` appears in the Environment window of your RStudio.\n",
    "\n",
    "Since the variable is global it can then be called in any subsequent part of the code. For example, if you later type "
   ]
  },
  {
   "cell_type": "code",
   "execution_count": 11,
   "id": "eea44c28-5da1-443b-9543-35270638c567",
   "metadata": {
    "vscode": {
     "languageId": "r"
    }
   },
   "outputs": [
    {
     "data": {
      "text/html": [
       "5"
      ],
      "text/latex": [
       "5"
      ],
      "text/markdown": [
       "5"
      ],
      "text/plain": [
       "[1] 5"
      ]
     },
     "metadata": {},
     "output_type": "display_data"
    }
   ],
   "source": [
    "newvar"
   ]
  },
  {
   "cell_type": "markdown",
   "id": "5ddf40cc-7be8-41fc-8343-4261e12b2f02",
   "metadata": {},
   "source": [
    "the output is the value of the variable, 5. Similarly if you define a new variable `newvar2` based on `newvar`"
   ]
  },
  {
   "cell_type": "code",
   "execution_count": 12,
   "id": "ba2d373e-4903-4ec7-b82a-66c384cba3de",
   "metadata": {
    "vscode": {
     "languageId": "r"
    }
   },
   "outputs": [
    {
     "data": {
      "text/html": [
       "6"
      ],
      "text/latex": [
       "6"
      ],
      "text/markdown": [
       "6"
      ],
      "text/plain": [
       "[1] 6"
      ]
     },
     "metadata": {},
     "output_type": "display_data"
    }
   ],
   "source": [
    "newvar2 <- newvar + 1\n",
    "newvar2"
   ]
  },
  {
   "cell_type": "markdown",
   "id": "9bb99360-dbfe-420d-b84c-38fe3448e14a",
   "metadata": {},
   "source": [
    "you would have created a new variable `newvar2` whose value will equal the value of `newvar` + 1."
   ]
  },
  {
   "cell_type": "markdown",
   "id": "3b0ba95d-31e9-49a5-8611-32318a64102a",
   "metadata": {},
   "source": [
    "Similarly if you use a global variable inside a function (e.g. the function `newfun` below which takes a number and returns the sum of this number and `newvar`) "
   ]
  },
  {
   "cell_type": "code",
   "execution_count": 13,
   "id": "771ad37e-099c-4803-b59f-40958dfb92ff",
   "metadata": {
    "vscode": {
     "languageId": "r"
    }
   },
   "outputs": [],
   "source": [
    "newfun <- function(x) {\n",
    " return(x+newvar)\n",
    "}"
   ]
  },
  {
   "cell_type": "markdown",
   "id": "3323c158-173d-407b-bbb3-29ccb807e814",
   "metadata": {},
   "source": [
    "and call the function with argument `2`, the output will be"
   ]
  },
  {
   "cell_type": "code",
   "execution_count": 14,
   "id": "e5485fdc-1e5c-4c2f-b2ed-fa6ca787a80f",
   "metadata": {
    "vscode": {
     "languageId": "r"
    }
   },
   "outputs": [
    {
     "data": {
      "text/html": [
       "7"
      ],
      "text/latex": [
       "7"
      ],
      "text/markdown": [
       "7"
      ],
      "text/plain": [
       "[1] 7"
      ]
     },
     "metadata": {},
     "output_type": "display_data"
    }
   ],
   "source": [
    "newfun(2)"
   ]
  },
  {
   "cell_type": "markdown",
   "id": "43daedc9-9fac-417f-bd05-d27cc6065711",
   "metadata": {},
   "source": [
    "equal to 2 + 5."
   ]
  },
  {
   "cell_type": "markdown",
   "id": "6492db9c-e1bd-488c-9088-e3eb0733c4aa",
   "metadata": {},
   "source": [
    "### Local variables\n",
    "\n",
    "On the other hand, local variables are ones that exist temporarily in the memory of your computer, only for the duration of the execution of a part of the code. When a new variable is defined within a function it can be called from further code within the same function, but after the execution of the function will no longer exist in the computer memory. \n",
    "\n",
    "For example, consider the function `f2` defined above (reproduced below for clarity)."
   ]
  },
  {
   "cell_type": "code",
   "execution_count": 15,
   "id": "b97ab6cb-1d4c-4794-9421-d329b6b8070a",
   "metadata": {
    "vscode": {
     "languageId": "r"
    }
   },
   "outputs": [],
   "source": [
    "f2 <- function(x) {\n",
    "    term1 <- x*x*x\n",
    "    term2 <- -12*x\n",
    "    term3 <- 3\n",
    "    out = term1 + term2 + term3\n",
    "    return(out)\n",
    "}"
   ]
  },
  {
   "cell_type": "markdown",
   "id": "421e896c-9bb5-4ece-bdcd-e875221d3f10",
   "metadata": {},
   "source": [
    "Within the body of the function, we define four new variables: `term1`, `term2`, `term3`, and `out`. All of these variables are important for the running of the function as its output (the expression inside `return()`) depends on them. However, these variables are local to the function - they only exist temporarily in your computer memory during the execution of the function. "
   ]
  },
  {
   "cell_type": "markdown",
   "id": "0bc1e9f8-64a5-4f5a-b001-92d67aa7ff9c",
   "metadata": {},
   "source": [
    "For example, if following the definition and execution of the function, we type\n",
    "\n",
    ":::{code-block}\n",
    "term1\n",
    ":::\n",
    "\n",
    ":::{code-block}\n",
    "object 'term1' not found\n",
    ":::"
   ]
  },
  {
   "cell_type": "markdown",
   "id": "009869f0-de2a-4381-9b57-40366123eba7",
   "metadata": {},
   "source": [
    "we get an error message telling us that the \"object\" `term1` does not exist. Indeed, it does not - it only exists briefly during the execution of the function. You can also verify that a variable `term1` does not exist in your environment (no such variable appears in your RStudio Environment window). \n",
    "\n",
    "In programming local variables are useful because they make your code use computer memory less intensely, and this could have a significant impact on speed and performance with more complicated pieces of code. At this stage, however, we are not focusing on writing efficient code so most of the above discussion is only intended as an important side note."
   ]
  },
  {
   "cell_type": "markdown",
   "id": "d7c080bf-c021-44d8-90d8-5328598c8262",
   "metadata": {},
   "source": [
    "## Using R functions inside `plot()`\n",
    "\n",
    "As already discussed in {ref}`chapter:plotting` the standard way of plotting the graph of a function of R is by specifying vectors of $x$ and $y$ coordinates and then calling `plot(x,y,type=\"l\")`.\n",
    "\n",
    "For example, the graph of $f(x)=x^3-12x+3$ above for $x\\in[-3,3]$ can be plotted by using the following code:"
   ]
  },
  {
   "cell_type": "code",
   "execution_count": 16,
   "id": "533d0d67-e145-403c-ac62-a9be7648dce3",
   "metadata": {
    "tags": [
     "remove-cell"
    ],
    "vscode": {
     "languageId": "r"
    }
   },
   "outputs": [],
   "source": [
    "options(repr.plot.width=4, repr.plot.height=4, repr.plot.res=240)\n",
    "options(jupyter.plot_mimetypes = \"image/png\") "
   ]
  },
  {
   "cell_type": "code",
   "execution_count": 17,
   "id": "e7d81b04-8453-49ea-8bc3-30d40443efeb",
   "metadata": {
    "vscode": {
     "languageId": "r"
    }
   },
   "outputs": [
    {
     "data": {
      "image/png": "[encoded data removed]"
     },
     "metadata": {
      "image/png": {
       "height": 480,
       "width": 480
      }
     },
     "output_type": "display_data"
    }
   ],
   "source": [
    "x <- seq(-3,3,0.25)\n",
    "y <- x^3-12*x+3\n",
    "\n",
    "plot(x,y,type=\"l\")"
   ]
  },
  {
   "cell_type": "markdown",
   "id": "fdd51abe-b4d0-4269-aae2-7fa1804e7f5f",
   "metadata": {},
   "source": [
    "Once we have defined a function `f` which implements $f(x)$ above, one think we can do is use the function `f` to construct the correct $y$ coordinates after constructing the $x$ coordinates. In R when a function of one variable is called with a vector, the associated output is a vector of the same length with each element obtained as the value of the function evaluated at the corresponding element of the first vector. Therefore, the following code produces an identical plot to the above."
   ]
  },
  {
   "cell_type": "code",
   "execution_count": 18,
   "id": "261f57af-3d88-4f8f-a665-2694317b2dc3",
   "metadata": {
    "vscode": {
     "languageId": "r"
    }
   },
   "outputs": [
    {
     "data": {
      "image/png": "[encoded data removed]"
     },
     "metadata": {
      "image/png": {
       "height": 480,
       "width": 480
      }
     },
     "output_type": "display_data"
    }
   ],
   "source": [
    "x <- seq(-3,3,0.25)\n",
    "y <- f(x)\n",
    "\n",
    "plot(x,y,type=\"l\")"
   ]
  },
  {
   "cell_type": "markdown",
   "id": "1021a9f5-81e3-4f6f-8524-d74815989d08",
   "metadata": {},
   "source": [
    "However, even more conveniently, the function `plot()` can be called directly with a user defined function without specifying a vector of $x$-coordinates, but only setting the domain for the plot (by using the `from` and `to` optional arguments). For example, once we have defined the **function** `f`, the graph of the function over $x\\in[-3,3]$ can be constructed with the following simplified code:"
   ]
  },
  {
   "cell_type": "code",
   "execution_count": 19,
   "id": "2b2e27d5-4042-4b6e-ae38-19937d039d9d",
   "metadata": {
    "vscode": {
     "languageId": "r"
    }
   },
   "outputs": [
    {
     "data": {
      "image/png": "[encoded data removed]"
     },
     "metadata": {
      "image/png": {
       "height": 480,
       "width": 480
      }
     },
     "output_type": "display_data"
    }
   ],
   "source": [
    "plot(f, from=-3, to=3)"
   ]
  },
  {
   "cell_type": "markdown",
   "id": "7ad230d2-5ff7-4be1-8f25-5a514281b53b",
   "metadata": {},
   "source": [
    "The graph can be further customized in the same way as discussed in {ref}`content:plots:customization`.\n",
    "\n",
    "For example,"
   ]
  },
  {
   "cell_type": "code",
   "execution_count": 20,
   "id": "c08f5dca-7f91-4e1e-be3b-f44494ce1890",
   "metadata": {
    "vscode": {
     "languageId": "r"
    }
   },
   "outputs": [
    {
     "data": {
      "image/png": "[encoded data removed]"
     },
     "metadata": {
      "image/png": {
       "height": 480,
       "width": 480
      }
     },
     "output_type": "display_data"
    }
   ],
   "source": [
    "plot(f, from=-3, to=3,\n",
    "    lty=2,\n",
    "    lwd=2,\n",
    "    col=\"red\",\n",
    "    frame=FALSE)\n",
    "\n",
    "points(c(-2,2), f(c(-2,2)), pch=19, col=\"red\")\n",
    "\n",
    "text(2, f(2), \"Local minimum\", pos=2)\n",
    "text(-2, f(-2), \"Local maximum\", pos=4)"
   ]
  },
  {
   "cell_type": "markdown",
   "id": "7841f4e7-e16a-42ec-b60e-5093bf4754c3",
   "metadata": {},
   "source": [
    "This completes the discussion of {ref}`chapter:functions`. We next turn attention to applications of loops to evaluating geometric series."
   ]
  }
 ],
 "metadata": {
  "kernelspec": {
   "display_name": "R",
   "language": "R",
   "name": "ir"
  },
  "language_info": {
   "codemirror_mode": "r",
   "file_extension": ".r",
   "mimetype": "text/x-r-source",
   "name": "R",
   "pygments_lexer": "r",
   "version": "4.3.0"
  }
 },
 "nbformat": 4,
 "nbformat_minor": 5
}