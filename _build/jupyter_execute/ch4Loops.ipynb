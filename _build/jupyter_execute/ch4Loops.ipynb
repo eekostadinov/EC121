{
 "cells": [
  {
   "cell_type": "markdown",
   "id": "3d8d6548-237f-4c37-adcf-7123f088aba1",
   "metadata": {},
   "source": [
<<<<<<< Updated upstream
    "# Title 2"
=======
    "# Loops in R"
>>>>>>> Stashed changes
   ]
  },
  {
   "cell_type": "code",
   "execution_count": 1,
   "id": "5cb792ba-a99f-4f7a-87e0-e818d03af253",
   "metadata": {},
   "outputs": [
    {
     "name": "stdout",
     "output_type": "stream",
     "text": [
      "[1] 1\n",
      "[1] 2\n",
      "[1] 3\n",
      "[1] 4\n",
      "[1] 5\n",
      "[1] 6\n",
      "[1] 7\n",
      "[1] 8\n",
      "[1] 9\n",
      "[1] 10\n"
     ]
    }
   ],
   "source": [
    "for (i in 1:10){\n",
    "    print(i)\n",
    "}"
   ]
  },
  {
   "cell_type": "code",
<<<<<<< Updated upstream
=======
   "execution_count": null,
   "id": "93f22035-2f9b-44d5-9047-edbc06f13898",
   "metadata": {},
   "outputs": [],
   "source": []
  },
  {
   "cell_type": "code",
>>>>>>> Stashed changes
   "execution_count": 2,
   "id": "b20c0e04-a710-48ef-b70a-6a8b9261822c",
   "metadata": {},
   "outputs": [],
   "source": [
    "x1 <- 1\n",
    "r <- 1.5\n",
    "X = c(x1)\n",
    "n=10\n",
    "\n",
    "for (i in 2:n) {\n",
    "    x <- x1*r;\n",
    "    X <- c(X,x)\n",
    "    x1 <- x\n",
    "}"
   ]
  },
  {
   "cell_type": "code",
   "execution_count": 3,
   "id": "ebc7b1d6-7ab7-4392-a5e4-e5c6526391d1",
   "metadata": {},
   "outputs": [
    {
     "data": {
      "text/html": [
       "<style>\n",
       ".list-inline {list-style: none; margin:0; padding: 0}\n",
       ".list-inline>li {display: inline-block}\n",
       ".list-inline>li:not(:last-child)::after {content: \"\\00b7\"; padding: 0 .5ex}\n",
       "</style>\n",
       "<ol class=list-inline><li>1</li><li>1.5</li><li>2.25</li><li>3.375</li><li>5.0625</li><li>7.59375</li><li>11.390625</li><li>17.0859375</li><li>25.62890625</li><li>38.443359375</li></ol>\n"
      ],
      "text/latex": [
       "\\begin{enumerate*}\n",
       "\\item 1\n",
       "\\item 1.5\n",
       "\\item 2.25\n",
       "\\item 3.375\n",
       "\\item 5.0625\n",
       "\\item 7.59375\n",
       "\\item 11.390625\n",
       "\\item 17.0859375\n",
       "\\item 25.62890625\n",
       "\\item 38.443359375\n",
       "\\end{enumerate*}\n"
      ],
      "text/markdown": [
       "1. 1\n",
       "2. 1.5\n",
       "3. 2.25\n",
       "4. 3.375\n",
       "5. 5.0625\n",
       "6. 7.59375\n",
       "7. 11.390625\n",
       "8. 17.0859375\n",
       "9. 25.62890625\n",
       "10. 38.443359375\n",
       "\n",
       "\n"
      ],
      "text/plain": [
       " [1]  1.00000  1.50000  2.25000  3.37500  5.06250  7.59375 11.39062 17.08594\n",
       " [9] 25.62891 38.44336"
      ]
     },
     "metadata": {},
     "output_type": "display_data"
    }
   ],
   "source": [
    "X"
   ]
  },
  {
   "cell_type": "code",
   "execution_count": 4,
   "id": "4c88a24e-4b16-41d7-89d8-d560be349c19",
   "metadata": {},
   "outputs": [],
   "source": [
    "x1 <- 1\n",
    "r <- 1.5\n",
    "X = c(x1)\n",
    "Xsum = c(x1)\n",
    "n=10\n",
    "\n",
    "for (i in 2:n) {\n",
    "    x <- x1*r;\n",
    "    X <- c(X,x)\n",
    "    Xsum <- Xsum+x\n",
    "    x1 <- x\n",
    "    \n",
    "}"
   ]
  },
  {
   "cell_type": "code",
   "execution_count": 5,
   "id": "dfde45e2-93d2-4ce6-80d8-2df43eeaf8f7",
   "metadata": {},
   "outputs": [
    {
     "data": {
      "text/html": [
       "113.330078125"
      ],
      "text/latex": [
       "113.330078125"
      ],
      "text/markdown": [
       "113.330078125"
      ],
      "text/plain": [
       "[1] 113.3301"
      ]
     },
     "metadata": {},
     "output_type": "display_data"
    }
   ],
   "source": [
    "sum(X)"
   ]
  }
 ],
 "metadata": {
  "kernelspec": {
   "display_name": "R",
   "language": "R",
   "name": "ir"
  },
  "language_info": {
   "codemirror_mode": "r",
   "file_extension": ".r",
   "mimetype": "text/x-r-source",
   "name": "R",
   "pygments_lexer": "r",
   "version": "4.2.1"
  }
 },
 "nbformat": 4,
 "nbformat_minor": 5
}